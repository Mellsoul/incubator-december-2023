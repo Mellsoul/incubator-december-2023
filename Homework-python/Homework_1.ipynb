{
  "metadata": {
    "kernelspec": {
      "name": "python",
      "display_name": "Python (Pyodide)",
      "language": "python"
    },
    "language_info": {
      "codemirror_mode": {
        "name": "python",
        "version": 3
      },
      "file_extension": ".py",
      "mimetype": "text/x-python",
      "name": "python",
      "nbconvert_exporter": "python",
      "pygments_lexer": "ipython3",
      "version": "3.8"
    }
  },
  "nbformat_minor": 4,
  "nbformat": 4,
  "cells": [
    {
      "cell_type": "markdown",
      "source": "<h2><b>HOMEWORK:</b></h2>",
      "metadata": {}
    },
    {
      "cell_type": "markdown",
      "source": "1. This code is ugly! Fix it using function (and return final result):",
      "metadata": {}
    },
    {
      "cell_type": "code",
      "source": "# CODE\nresult1 = 0+1\nprint(result1)\nresult2 = 1+2\nprint(result2)\nresult3 = 2+3\nprint(result3)\nresult4 = 3+4\nprint(result4)\nresult5 = 4+5\nprint(result5)\nfinal = result1 + result2 + result3 + result4 + result5\nprint(final)",
      "metadata": {},
      "outputs": [],
      "execution_count": null
    },
    {
      "cell_type": "code",
      "source": "# YOUR SOLUTION\ndef calculate_sum(x, y):\n    result = x + y\n    print(result)\n    return result\n\nresult1 = calculate_sum(0, 1)\nresult2 = calculate_sum(1, 2)\nresult3 = calculate_sum(2, 3)\nresult4 = calculate_sum(3, 4)\nresult5 = calculate_sum(4, 5)\n\nfinal = result1 + result2 + result3 + result4 + result5\nprint(final)",
      "metadata": {
        "trusted": true
      },
      "outputs": [
        {
          "name": "stdout",
          "text": "1\n3\n5\n7\n9\n25\n",
          "output_type": "stream"
        }
      ],
      "execution_count": 5
    },
    {
      "cell_type": "markdown",
      "source": "2. These functions doesn't work as expected. Fix them:",
      "metadata": {}
    },
    {
      "cell_type": "code",
      "source": "def test_function(a,b):\n    \"\"\" Why result1 is None? :( \n    - No return statement, fixed now\n    \"\"\"\n     \n    result = a*b\n    print('Result: {0}'.format(result))\n    return result\n\nresult1 = test_function(2,4)\nprint(result1)\n\n#######################################\n\ndef test_function2(a,b):\n    \"\"\" Why do we have only 15 instead of Result: 15 as well? :(\n    - Because print is after the return statement, it should be before, fixed now\n    \"\"\"\n    result = a*b\n    print('Result: {0}'.format(result))\n    return result\n\nresult2 = test_function2(3,5)\nprint(result2)",
      "metadata": {
        "trusted": true
      },
      "outputs": [
        {
          "name": "stdout",
          "text": "Result: 8\n8\nResult: 15\n15\n",
          "output_type": "stream"
        }
      ],
      "execution_count": 5
    },
    {
      "cell_type": "markdown",
      "source": "3. Write a class definition of a Pizza, create 3 pizzas:\n- 50cm, Quattro Formaggi with olive oil\n- 32cm, Prosciutto with garlic sauce\n- 40cm, Margheritta with tomato sauce",
      "metadata": {}
    },
    {
      "cell_type": "code",
      "source": "# YOUR SOLUTION\nclass Pizza:\n    def __init__(self, size, topping, sauce):\n        self.size = size\n        self.topping = topping\n        self.sauce = sauce\n\n    def __str__(self):\n        return f\"{self.size} Pizza with {self.topping} and {self.sauce} sauce\"\n\n\npizza1 = Pizza(size=50, topping=\"Quattro Formaggi\", sauce=\"olive oil\")\npizza2 = Pizza(size=32, topping=\"Prosciutto\", sauce=\"garlic sauce\")\npizza3 = Pizza(size=40, topping=\"Margheritta\", sauce=\"tomato sauce\")\n\nprint(pizza1)\nprint(pizza2)\nprint(pizza3)\n",
      "metadata": {
        "trusted": true
      },
      "outputs": [
        {
          "name": "stdout",
          "text": "50 Pizza with Quattro Formaggi and olive oil sauce\n32 Pizza with Prosciutto and garlic sauce sauce\n40 Pizza with Margheritta and tomato sauce sauce\n",
          "output_type": "stream"
        }
      ],
      "execution_count": 12
    },
    {
      "cell_type": "markdown",
      "source": "4. Unit Testing:  \nWrite function that once inputted a birth year - will validate whether the person is above 80 years old and by that - classified to get a COVID vaccine! Raise AssertionError if not.",
      "metadata": {}
    },
    {
      "cell_type": "code",
      "source": "# YOUR SOLUTION\ndef check_eligibility_for_covid_vaccine(birth_year):\n    current_year = 2024  # You can update this to the current year\n    age = current_year - birth_year\n\n    # Checking if the person is above 80 years old\n    if int(age) <= 80:\n        raise ValueError(\"Person is not eligible for COVID vaccine.\")\n\n    print(\"Person is eligible for COVID vaccine.\")\n\n# Example usage\ntry:\n    birth_year = int(input(\"Enter the birth year: \"))\n    check_eligibility_for_covid_vaccine(birth_year)\nexcept ValueError as e:\n    print(f\"Error: {e}\")\n",
      "metadata": {
        "trusted": true
      },
      "outputs": [
        {
          "ename": "<class 'TypeError'>",
          "evalue": "int() argument must be a string, a bytes-like object or a real number, not 'PyodideFuture'",
          "traceback": [
            "\u001b[0;31m---------------------------------------------------------------------------\u001b[0m",
            "\u001b[0;31mTypeError\u001b[0m                                 Traceback (most recent call last)",
            "Cell \u001b[0;32mIn[21], line 14\u001b[0m\n\u001b[1;32m     12\u001b[0m \u001b[38;5;66;03m# Example usage\u001b[39;00m\n\u001b[1;32m     13\u001b[0m \u001b[38;5;28;01mtry\u001b[39;00m:\n\u001b[0;32m---> 14\u001b[0m     birth_year \u001b[38;5;241m=\u001b[39m \u001b[38;5;28;43mint\u001b[39;49m\u001b[43m(\u001b[49m\u001b[38;5;28;43minput\u001b[39;49m\u001b[43m(\u001b[49m\u001b[38;5;124;43m\"\u001b[39;49m\u001b[38;5;124;43mEnter the birth year: \u001b[39;49m\u001b[38;5;124;43m\"\u001b[39;49m\u001b[43m)\u001b[49m\u001b[43m)\u001b[49m\n\u001b[1;32m     15\u001b[0m     check_eligibility_for_covid_vaccine(birth_year)\n\u001b[1;32m     16\u001b[0m \u001b[38;5;28;01mexcept\u001b[39;00m \u001b[38;5;167;01mValueError\u001b[39;00m \u001b[38;5;28;01mas\u001b[39;00m e:\n",
            "\u001b[0;31mTypeError\u001b[0m: int() argument must be a string, a bytes-like object or a real number, not 'PyodideFuture'"
          ],
          "output_type": "error"
        },
        {
          "output_type": "stream",
          "name": "stdin",
          "text": "Enter the birth year:  1900\n"
        }
      ],
      "execution_count": 21
    },
    {
      "cell_type": "markdown",
      "source": "*** 5. Write Integration Test of your choice (OPTIONAL):",
      "metadata": {}
    }
  ]
}